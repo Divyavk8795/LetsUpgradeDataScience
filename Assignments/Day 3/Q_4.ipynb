{
 "cells": [
  {
   "cell_type": "code",
   "execution_count": 1,
   "metadata": {},
   "outputs": [
    {
     "name": "stdout",
     "output_type": "stream",
     "text": [
      "\n",
      "Shape of Array : (10,)\n",
      "\n",
      "Shape of 2d Array in row major : (1, 10)\n",
      "\n",
      "Shape of 2d Array in column major : (10, 1)\n"
     ]
    }
   ],
   "source": [
    "import numpy as np\n",
    "\n",
    "# creating a 1d array\n",
    "arr = np.arange(10)\n",
    "print(\"\\nShape of Array :\",arr.shape)\n",
    "\n",
    "# converting using newaxis in row wise\n",
    "row_arr = arr[np.newaxis, :]\n",
    "print(\"\\nShape of 2d Array in row major :\",row_arr.shape)\n",
    "\n",
    "# converting using newaxis in column wise\n",
    "col_arr = arr[:, np.newaxis]\n",
    "print(\"\\nShape of 2d Array in column major :\",col_arr.shape)"
   ]
  },
  {
   "cell_type": "code",
   "execution_count": null,
   "metadata": {},
   "outputs": [],
   "source": []
  }
 ],
 "metadata": {
  "kernelspec": {
   "display_name": "Python 3",
   "language": "python",
   "name": "python3"
  },
  "language_info": {
   "codemirror_mode": {
    "name": "ipython",
    "version": 3
   },
   "file_extension": ".py",
   "mimetype": "text/x-python",
   "name": "python",
   "nbconvert_exporter": "python",
   "pygments_lexer": "ipython3",
   "version": "3.8.3"
  }
 },
 "nbformat": 4,
 "nbformat_minor": 4
}
