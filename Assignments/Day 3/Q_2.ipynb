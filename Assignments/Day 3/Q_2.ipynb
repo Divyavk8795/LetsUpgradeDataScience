{
 "cells": [
  {
   "cell_type": "code",
   "execution_count": 1,
   "metadata": {},
   "outputs": [
    {
     "name": "stdin",
     "output_type": "stream",
     "text": [
      "Enter number of elements of list :  5\n",
      "\n",
      "Enter the numbers for list 1 :  3 15 22 18 33\n"
     ]
    },
    {
     "name": "stdout",
     "output_type": "stream",
     "text": [
      "\n",
      "List 1 is -  [3, 15, 22, 18, 33]\n"
     ]
    },
    {
     "name": "stdin",
     "output_type": "stream",
     "text": [
      "\n",
      "Enter the numbers for list 2 :  25 64 77 11 50\n"
     ]
    },
    {
     "name": "stdout",
     "output_type": "stream",
     "text": [
      "\n",
      "List 2 is -  [25, 64, 77, 11, 50]\n",
      "\n",
      "Array value for concatenated arr : [ 3 15 22 18 33 25 64 77 11 50]\n",
      "\n",
      "Sorted Array for concatenated arr : [ 3 11 15 18 22 25 33 50 64 77]\n"
     ]
    }
   ],
   "source": [
    "# importing numpy with alias name\n",
    "import numpy as np\n",
    "\n",
    "# creating a 2 empty list:\n",
    "lst_1 = []\n",
    "lst_2 = []\n",
    "\n",
    "n = int(input(\"Enter number of elements of list : \")) \n",
    "  \n",
    "# Below line read inputs from user using map() function  \n",
    "lst_1 = list(map(int,input(\"\\nEnter the numbers for list 1 : \").strip().split()))[:n] \n",
    "\n",
    "print(\"\\nList 1 is - \", lst_1) \n",
    "\n",
    "# Below line read inputs from user using map() function  \n",
    "lst_2 = list(map(int,input(\"\\nEnter the numbers for list 2 : \").strip().split()))[:n] \n",
    "\n",
    "print(\"\\nList 2 is - \", lst_2) \n",
    "\n",
    "# converting list into array:\n",
    "arr_1 = np.array(lst_1)\n",
    "arr_2 = np.array(lst_2)\n",
    "\n",
    "# concatenating 2 array:\n",
    "arr = np.concatenate((arr_1, arr_2))\n",
    "print(\"\\nArray value for concatenated arr :\",arr)\n",
    "\n",
    "# sorting up concatenated array\n",
    "sortArr = np.sort(arr)\n",
    "print(\"\\nSorted Array for concatenated arr :\",sortArr)"
   ]
  },
  {
   "cell_type": "code",
   "execution_count": null,
   "metadata": {},
   "outputs": [],
   "source": []
  }
 ],
 "metadata": {
  "kernelspec": {
   "display_name": "Python 3",
   "language": "python",
   "name": "python3"
  },
  "language_info": {
   "codemirror_mode": {
    "name": "ipython",
    "version": 3
   },
   "file_extension": ".py",
   "mimetype": "text/x-python",
   "name": "python",
   "nbconvert_exporter": "python",
   "pygments_lexer": "ipython3",
   "version": "3.8.3"
  }
 },
 "nbformat": 4,
 "nbformat_minor": 4
}
