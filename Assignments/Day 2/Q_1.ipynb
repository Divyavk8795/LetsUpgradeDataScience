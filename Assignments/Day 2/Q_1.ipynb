{
 "cells": [
  {
   "cell_type": "code",
   "execution_count": 1,
   "metadata": {},
   "outputs": [
    {
     "name": "stdin",
     "output_type": "stream",
     "text": [
      "Enter a list of 10 elements separated by space  2 45 76 34 12 55 23 44 98 56\n"
     ]
    },
    {
     "name": "stdout",
     "output_type": "stream",
     "text": [
      "\n",
      "\n",
      "user list is  ['2', '45', '76', '34', '12', '55', '23', '44', '98', '56']\n",
      "Appended list is  [2, 76, 34, 12, 44, 98, 56] "
     ]
    }
   ],
   "source": [
    "input_string = input(\"Enter a list of 10 elements separated by space \")\n",
    "\n",
    "print(\"\\n\")\n",
    "userList = input_string.split()\n",
    "print(\"user list is \", userList)\n",
    "\n",
    "sample_list = []\n",
    "for num in userList: \n",
    "\t# checking condition \n",
    "\tif int(num) % 2 == 0: \n",
    "\t    sample_list.append(int(num))\n",
    "print(\"Appended list is \", sample_list, end = \" \") \n"
   ]
  },
  {
   "cell_type": "code",
   "execution_count": null,
   "metadata": {},
   "outputs": [],
   "source": []
  }
 ],
 "metadata": {
  "kernelspec": {
   "display_name": "Python 3",
   "language": "python",
   "name": "python3"
  },
  "language_info": {
   "codemirror_mode": {
    "name": "ipython",
    "version": 3
   },
   "file_extension": ".py",
   "mimetype": "text/x-python",
   "name": "python",
   "nbconvert_exporter": "python",
   "pygments_lexer": "ipython3",
   "version": "3.8.3"
  }
 },
 "nbformat": 4,
 "nbformat_minor": 4
}
